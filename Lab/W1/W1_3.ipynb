{
 "cells": [
  {
   "cell_type": "markdown",
   "metadata": {},
   "source": [
    "# LAB 1 \n",
    "## Check if the input value is an integer"
   ]
  },
  {
   "cell_type": "code",
   "execution_count": 10,
   "metadata": {},
   "outputs": [
    {
     "name": "stdout",
     "output_type": "stream",
     "text": [
      "5.4 is not an integer\n"
     ]
    }
   ],
   "source": [
    "def if_integer(num):\n",
    "    if isinstance(num, int):\n",
    "        return True\n",
    "    \n",
    "if __name__ == \"__main__\":\n",
    "    num = 5.4\n",
    "    if (if_integer(num)):\n",
    "        print(str(num) + \" is an integer\")\n",
    "    else:\n",
    "        print(str(num) + \" is not an integer\")"
   ]
  }
 ],
 "metadata": {
  "kernelspec": {
   "display_name": "Python 3",
   "language": "python",
   "name": "python3"
  },
  "language_info": {
   "codemirror_mode": {
    "name": "ipython",
    "version": 3
   },
   "file_extension": ".py",
   "mimetype": "text/x-python",
   "name": "python",
   "nbconvert_exporter": "python",
   "pygments_lexer": "ipython3",
   "version": "3.12.3"
  }
 },
 "nbformat": 4,
 "nbformat_minor": 2
}
