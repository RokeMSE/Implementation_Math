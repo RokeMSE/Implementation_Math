{
 "cells": [
  {
   "cell_type": "markdown",
   "metadata": {},
   "source": [
    "# LAB 1 \n",
    "## Write 2 functions to calculate the factorial of a n (n < 10) using 2 different loops"
   ]
  },
  {
   "cell_type": "code",
   "execution_count": 3,
   "metadata": {},
   "outputs": [
    {
     "name": "stdout",
     "output_type": "stream",
     "text": [
      "3628800\n",
      "3628800\n",
      "3628800\n"
     ]
    }
   ],
   "source": [
    "import math\n",
    "\n",
    "def factorial1(n):\n",
    "    # First method: recursion\n",
    "    if n == 0:\n",
    "        return 1\n",
    "    else:\n",
    "        return n*factorial1(n-1)\n",
    "        \n",
    "    \n",
    "def factorial2(n):\n",
    "    # Second method: iteration\n",
    "    result = 1\n",
    "    for i in range(1, n+1):\n",
    "        result *= i\n",
    "    return result\n",
    "    \n",
    "    \n",
    "if __name__ == \"__main__\":\n",
    "    num = 10\n",
    "    print(factorial1(num))\n",
    "    print(factorial2(num))\n",
    "    print(math.factorial(num))"
   ]
  }
 ],
 "metadata": {
  "kernelspec": {
   "display_name": "Python 3",
   "language": "python",
   "name": "python3"
  },
  "language_info": {
   "codemirror_mode": {
    "name": "ipython",
    "version": 3
   },
   "file_extension": ".py",
   "mimetype": "text/x-python",
   "name": "python",
   "nbconvert_exporter": "python",
   "pygments_lexer": "ipython3",
   "version": "3.12.3"
  }
 },
 "nbformat": 4,
 "nbformat_minor": 2
}
