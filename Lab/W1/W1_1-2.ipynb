{
 "cells": [
  {
   "cell_type": "markdown",
   "metadata": {},
   "source": [
    "# LAB 1 \n",
    "## Write a code segment to introduce students and rate their ranking"
   ]
  },
  {
   "cell_type": "code",
   "execution_count": 7,
   "metadata": {},
   "outputs": [],
   "source": [
    "class Student: \n",
    "    def __innit__(self):\n",
    "        self.name = self.get_name()\n",
    "        self.gender = self.get_gender()\n",
    "        self.mssv = self.get_mssv()\n",
    "        self.class_id = self.get_class_id()\n",
    "        self.avg = 0\n",
    "    \n",
    "    def get_name(self, name):\n",
    "        name = input(\"Name of student: \")\n",
    "        return name\n",
    "        \n",
    "    def get_mssv(self, mssv):\n",
    "        mssv = input(\"mssv of student: \")\n",
    "        return mssv\n",
    "        \n",
    "    def get_gender(self, ngender):\n",
    "        gender = input(\"gender of student: \")\n",
    "        return gender\n",
    "        \n",
    "    def get_class_id(self, class_id):\n",
    "        class_id = input(\"class_id of student: \")\n",
    "        return class_id\n",
    "    \n",
    "    def get_avg(self, avg):\n",
    "        avg = float(input(\"avg of student: \"))\n",
    "        return avg\n",
    "    \n",
    "    def introduce(self):\n",
    "        print(\"My name is \" + self.name + \", a \" + self.gender + \" with a student id of \" + self.mssv + \" from \" + self.class_id)\n",
    "        \n",
    "\n",
    "class Class:\n",
    "    def __innit__(self, students):\n",
    "        self.students = students \n",
    "        \n",
    "    def introduce_class(self):\n",
    "        for st in self.students:\n",
    "            st.introduce()    \n",
    "        \n",
    "    def enter_score_idivid(self, mssv):\n",
    "        for st in self.students:\n",
    "            if (st.mssv == mssv):\n",
    "                st.get_avg()          \n",
    "                \n",
    "    def enter_score_bulk(self, score_list):\n",
    "        score_list.length() != self.students.length()\n",
    "        print (\"The score list does not match with the number of students in the class\")\n",
    "        for st in self.students:\n",
    "            st.avg = score_list.pop(0)\n",
    "        \n",
    "    def student_rating(self):\n",
    "        for st in self.students:    \n",
    "            if (st.avg <= 5.0):\n",
    "                print(st.mssv + \": Failed\")\n",
    "            elif (st.avg <= 7.0):\n",
    "                print(st.mssv + \": Average\")\n",
    "            elif (st.avg <= 8.0):\n",
    "                print(st.mssv + \": Good\")\n",
    "            else: \n",
    "                print(st.mssv + \": Excellent\")"
   ]
  },
  {
   "cell_type": "code",
   "execution_count": 8,
   "metadata": {},
   "outputs": [
    {
     "ename": "TypeError",
     "evalue": "Class() takes no arguments",
     "output_type": "error",
     "traceback": [
      "\u001b[1;31m---------------------------------------------------------------------------\u001b[0m",
      "\u001b[1;31mTypeError\u001b[0m                                 Traceback (most recent call last)",
      "Cell \u001b[1;32mIn[8], line 7\u001b[0m\n\u001b[0;32m      4\u001b[0m student3 \u001b[38;5;241m=\u001b[39m Student()\n\u001b[0;32m      6\u001b[0m score_list \u001b[38;5;241m=\u001b[39m [\u001b[38;5;241m4.0\u001b[39m, \u001b[38;5;241m7.5\u001b[39m, \u001b[38;5;241m9.0\u001b[39m]\n\u001b[1;32m----> 7\u001b[0m class1\u001b[38;5;241m=\u001b[39m \u001b[43mClass\u001b[49m\u001b[43m(\u001b[49m\u001b[43m[\u001b[49m\u001b[43mstudent1\u001b[49m\u001b[43m,\u001b[49m\u001b[43m \u001b[49m\u001b[43mstudent2\u001b[49m\u001b[43m,\u001b[49m\u001b[43m \u001b[49m\u001b[43mstudent3\u001b[49m\u001b[43m]\u001b[49m\u001b[43m)\u001b[49m\n\u001b[0;32m      8\u001b[0m class1\u001b[38;5;241m.\u001b[39menter_score_bulk(score_list)\n\u001b[0;32m      9\u001b[0m class1\u001b[38;5;241m.\u001b[39mstudent_rating()\n",
      "\u001b[1;31mTypeError\u001b[0m: Class() takes no arguments"
     ]
    }
   ],
   "source": [
    "if __name__ == \"__main__\":\n",
    "    student1 = Student()\n",
    "    student2 = Student()\n",
    "    student3 = Student()\n",
    "    \n",
    "    score_list = [4.0, 7.5, 9.0]\n",
    "    class1= Class([student1, student2, student3])\n",
    "    class1.enter_score_bulk(score_list)\n",
    "    class1.student_rating()"
   ]
  },
  {
   "cell_type": "code",
   "execution_count": null,
   "metadata": {},
   "outputs": [],
   "source": []
  }
 ],
 "metadata": {
  "kernelspec": {
   "display_name": "Python 3",
   "language": "python",
   "name": "python3"
  },
  "language_info": {
   "codemirror_mode": {
    "name": "ipython",
    "version": 3
   },
   "file_extension": ".py",
   "mimetype": "text/x-python",
   "name": "python",
   "nbconvert_exporter": "python",
   "pygments_lexer": "ipython3",
   "version": "3.12.3"
  }
 },
 "nbformat": 4,
 "nbformat_minor": 2
}
