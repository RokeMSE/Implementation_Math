{
 "cells": [
  {
   "cell_type": "markdown",
   "metadata": {},
   "source": [
    "## Cong tru 2 vecto"
   ]
  },
  {
   "cell_type": "code",
   "execution_count": null,
   "metadata": {},
   "outputs": [],
   "source": [
    "def matrix_cal_plus(A1,A2):\n",
    "    if (len(A1) != len(A2)): \n",
    "        raise Exception(\"The two given matrix aren't the same size\")\n",
    "    return [el1 + el2 for element1, element2 in zip(A1,A2)]\n",
    "    "
   ]
  },
  {
   "cell_type": "markdown",
   "metadata": {},
   "source": [
    "## Hoan vi 2 dong"
   ]
  },
  {
   "cell_type": "code",
   "execution_count": null,
   "metadata": {},
   "outputs": [],
   "source": [
    "def matrix_swap(A, r1, r2):\n",
    "    A[r1], A[r2] = A[r2], A[r1]\n",
    "        "
   ]
  },
  {
   "cell_type": "markdown",
   "metadata": {},
   "source": [
    "## Lap ma tran bo sung"
   ]
  },
  {
   "cell_type": "code",
   "execution_count": null,
   "metadata": {},
   "outputs": [],
   "source": [
    "def Extract_Matrix_Bosung(A):\n",
    "    # Format: (Ax|b)\n",
    "    b=[]\n",
    "    matrix = []\n",
    "    for i in range(len(A)):\n",
    "        b.append(A[i][-1])\n",
    "        matrix.append(A[i][:-1])\n",
    "    return matrix, b\n",
    "    \n",
    "def Combine_Matrix_Bosung(A, b):\n",
    "    if len(A) != len(b):\n",
    "        raise Exception(\"The two given matrix aren't the same size\")\n",
    "    return [A[i] + [b[i]] for i in range(len(A))]    "
   ]
  }
 ],
 "metadata": {
  "language_info": {
   "name": "python"
  }
 },
 "nbformat": 4,
 "nbformat_minor": 2
}
